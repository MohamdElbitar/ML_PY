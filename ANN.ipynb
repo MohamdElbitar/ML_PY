{
  "cells": [
    {
      "cell_type": "code",
      "execution_count": 2,
      "metadata": {
        "id": "9A7o8WQJlrL1"
      },
      "outputs": [],
      "source": [
        "import pandas as pd\n",
        "import numpy as np\n",
        "import keras \n",
        "import matplotlib.pyplot as plt\n",
        "\n",
        "%matplotlib inline "
      ]
    },
    {
      "cell_type": "code",
      "execution_count": 3,
      "metadata": {
        "colab": {
          "base_uri": "https://localhost:8080/",
          "height": 206
        },
        "id": "1yRh9p2lmPMT",
        "outputId": "1710d5eb-db3f-495e-ff07-dee8e3397a91"
      },
      "outputs": [
        {
          "data": {
            "text/html": [
              "<div>\n",
              "<style scoped>\n",
              "    .dataframe tbody tr th:only-of-type {\n",
              "        vertical-align: middle;\n",
              "    }\n",
              "\n",
              "    .dataframe tbody tr th {\n",
              "        vertical-align: top;\n",
              "    }\n",
              "\n",
              "    .dataframe thead th {\n",
              "        text-align: right;\n",
              "    }\n",
              "</style>\n",
              "<table border=\"1\" class=\"dataframe\">\n",
              "  <thead>\n",
              "    <tr style=\"text-align: right;\">\n",
              "      <th></th>\n",
              "      <th>CreditScore</th>\n",
              "      <th>Geography</th>\n",
              "      <th>Gender</th>\n",
              "      <th>Age</th>\n",
              "      <th>Tenure</th>\n",
              "      <th>Balance</th>\n",
              "      <th>NumOfProducts</th>\n",
              "      <th>HasCrCard</th>\n",
              "      <th>IsActiveMember</th>\n",
              "      <th>EstimatedSalary</th>\n",
              "      <th>Exited</th>\n",
              "    </tr>\n",
              "  </thead>\n",
              "  <tbody>\n",
              "    <tr>\n",
              "      <th>0</th>\n",
              "      <td>619</td>\n",
              "      <td>France</td>\n",
              "      <td>Female</td>\n",
              "      <td>42</td>\n",
              "      <td>2</td>\n",
              "      <td>0.00</td>\n",
              "      <td>1</td>\n",
              "      <td>1</td>\n",
              "      <td>1</td>\n",
              "      <td>101348.88</td>\n",
              "      <td>1</td>\n",
              "    </tr>\n",
              "    <tr>\n",
              "      <th>1</th>\n",
              "      <td>608</td>\n",
              "      <td>Spain</td>\n",
              "      <td>Female</td>\n",
              "      <td>41</td>\n",
              "      <td>1</td>\n",
              "      <td>83807.86</td>\n",
              "      <td>1</td>\n",
              "      <td>0</td>\n",
              "      <td>1</td>\n",
              "      <td>112542.58</td>\n",
              "      <td>0</td>\n",
              "    </tr>\n",
              "    <tr>\n",
              "      <th>2</th>\n",
              "      <td>502</td>\n",
              "      <td>France</td>\n",
              "      <td>Female</td>\n",
              "      <td>42</td>\n",
              "      <td>8</td>\n",
              "      <td>159660.80</td>\n",
              "      <td>3</td>\n",
              "      <td>1</td>\n",
              "      <td>0</td>\n",
              "      <td>113931.57</td>\n",
              "      <td>1</td>\n",
              "    </tr>\n",
              "    <tr>\n",
              "      <th>3</th>\n",
              "      <td>699</td>\n",
              "      <td>France</td>\n",
              "      <td>Female</td>\n",
              "      <td>39</td>\n",
              "      <td>1</td>\n",
              "      <td>0.00</td>\n",
              "      <td>2</td>\n",
              "      <td>0</td>\n",
              "      <td>0</td>\n",
              "      <td>93826.63</td>\n",
              "      <td>0</td>\n",
              "    </tr>\n",
              "    <tr>\n",
              "      <th>4</th>\n",
              "      <td>850</td>\n",
              "      <td>Spain</td>\n",
              "      <td>Female</td>\n",
              "      <td>43</td>\n",
              "      <td>2</td>\n",
              "      <td>125510.82</td>\n",
              "      <td>1</td>\n",
              "      <td>1</td>\n",
              "      <td>1</td>\n",
              "      <td>79084.10</td>\n",
              "      <td>0</td>\n",
              "    </tr>\n",
              "  </tbody>\n",
              "</table>\n",
              "</div>"
            ],
            "text/plain": [
              "   CreditScore Geography  Gender  Age  Tenure    Balance  NumOfProducts  \\\n",
              "0          619    France  Female   42       2       0.00              1   \n",
              "1          608     Spain  Female   41       1   83807.86              1   \n",
              "2          502    France  Female   42       8  159660.80              3   \n",
              "3          699    France  Female   39       1       0.00              2   \n",
              "4          850     Spain  Female   43       2  125510.82              1   \n",
              "\n",
              "   HasCrCard  IsActiveMember  EstimatedSalary  Exited  \n",
              "0          1               1        101348.88       1  \n",
              "1          0               1        112542.58       0  \n",
              "2          1               0        113931.57       1  \n",
              "3          0               0         93826.63       0  \n",
              "4          1               1         79084.10       0  "
            ]
          },
          "execution_count": 3,
          "metadata": {},
          "output_type": "execute_result"
        }
      ],
      "source": [
        "##Read in the data\n",
        "df = pd.read_csv('Churn_Modelling.csv')\n",
        "df.drop(['RowNumber','CustomerId','Surname'], axis=1, inplace=True)\n",
        "df.head()"
      ]
    },
    {
      "cell_type": "code",
      "execution_count": null,
      "metadata": {
        "id": "lSzdPV-ImWCw"
      },
      "outputs": [],
      "source": [
        "##Data Preprocessing\n",
        "# Create Training and Test sets\n",
        "\n",
        "from sklearn.model_selection import train_test_split\n",
        "\n",
        "y = df['Exited']\n",
        "X = df.drop('Exited',axis=1)\n",
        "\n",
        "X = pd.get_dummies(X,drop_first=True)\n",
        "\n",
        "X_train, X_test, y_train, y_test = train_test_split(X, y, test_size=0.2, random_state=123)"
      ]
    },
    {
      "cell_type": "code",
      "execution_count": null,
      "metadata": {
        "id": "N-P_R7tfmasw"
      },
      "outputs": [],
      "source": [
        "##Feature Scaling\n",
        "from sklearn.preprocessing import StandardScaler\n",
        "\n",
        "sc = StandardScaler()\n",
        "X_train = sc.fit_transform(X_train)\n",
        "X_test = sc.transform(X_test)"
      ]
    },
    {
      "cell_type": "code",
      "execution_count": null,
      "metadata": {
        "id": "UGhZ5dMNmrEo"
      },
      "outputs": [],
      "source": [
        "#Create the Artificial Neural Network\n",
        "import keras\n",
        "from keras.models import Sequential\n",
        "from keras.layers import Dense"
      ]
    },
    {
      "cell_type": "code",
      "execution_count": null,
      "metadata": {
        "id": "ZHd-2ZxJmvEa"
      },
      "outputs": [],
      "source": [
        "# Create the layers\n",
        "classifier = Sequential()\n",
        "\n",
        "# Adding the first hidden layer\n",
        "classifier.add(Dense(units=6,\n",
        "                     kernel_initializer='uniform',\n",
        "                     activation='relu',\n",
        "                     input_dim=11))\n",
        "\n",
        "# Adding the second hidden layer\n",
        "classifier.add(Dense(units=6,\n",
        "                     kernel_initializer='uniform',\n",
        "                     activation='relu'))  # don't need to specify the input_dim for subsequent layers\n",
        "\n",
        "# Add the final output layer\n",
        "classifier.add(Dense(units=1,   # we have a binary outcome Yes/No\n",
        "                     kernel_initializer = 'uniform',\n",
        "                     activation = 'sigmoid'))  # for more than 2 categories use 'softmax'"
      ]
    },
    {
      "cell_type": "code",
      "execution_count": null,
      "metadata": {
        "id": "iD7oFnYYneFW"
      },
      "outputs": [],
      "source": [
        "# Compile the ANN\n",
        "classifier.compile(optimizer='adam',\n",
        "                  loss='binary_crossentropy',\n",
        "                  metrics=['accuracy'])"
      ]
    },
    {
      "cell_type": "code",
      "execution_count": null,
      "metadata": {
        "colab": {
          "base_uri": "https://localhost:8080/"
        },
        "id": "DsFAKsWan3VA",
        "outputId": "1c4c381e-1045-469a-c21c-3fcf460854ef"
      },
      "outputs": [
        {
          "name": "stdout",
          "output_type": "stream",
          "text": [
            "Epoch 1/100\n",
            "800/800 [==============================] - 5s 3ms/step - loss: 0.5052 - accuracy: 0.7968\n",
            "Epoch 2/100\n",
            "800/800 [==============================] - 1s 2ms/step - loss: 0.4305 - accuracy: 0.7971\n",
            "Epoch 3/100\n",
            "800/800 [==============================] - 1s 2ms/step - loss: 0.4257 - accuracy: 0.7971\n",
            "Epoch 4/100\n",
            "800/800 [==============================] - 1s 2ms/step - loss: 0.4220 - accuracy: 0.7971\n",
            "Epoch 5/100\n",
            "800/800 [==============================] - 1s 2ms/step - loss: 0.4189 - accuracy: 0.8189\n",
            "Epoch 6/100\n",
            "800/800 [==============================] - 1s 2ms/step - loss: 0.4163 - accuracy: 0.8284\n",
            "Epoch 7/100\n",
            "800/800 [==============================] - 2s 2ms/step - loss: 0.4145 - accuracy: 0.8305\n",
            "Epoch 8/100\n",
            "800/800 [==============================] - 1s 2ms/step - loss: 0.4127 - accuracy: 0.8303\n",
            "Epoch 9/100\n",
            "800/800 [==============================] - 1s 2ms/step - loss: 0.4113 - accuracy: 0.8324\n",
            "Epoch 10/100\n",
            "800/800 [==============================] - 1s 2ms/step - loss: 0.4099 - accuracy: 0.8325\n",
            "Epoch 11/100\n",
            "800/800 [==============================] - 1s 2ms/step - loss: 0.4089 - accuracy: 0.8322\n",
            "Epoch 12/100\n",
            "800/800 [==============================] - 1s 2ms/step - loss: 0.4082 - accuracy: 0.8331\n",
            "Epoch 13/100\n",
            "800/800 [==============================] - 1s 2ms/step - loss: 0.4071 - accuracy: 0.8345\n",
            "Epoch 14/100\n",
            "800/800 [==============================] - 1s 2ms/step - loss: 0.4063 - accuracy: 0.8347\n",
            "Epoch 15/100\n",
            "800/800 [==============================] - 1s 2ms/step - loss: 0.4053 - accuracy: 0.8369\n",
            "Epoch 16/100\n",
            "800/800 [==============================] - 2s 2ms/step - loss: 0.4047 - accuracy: 0.8351\n",
            "Epoch 17/100\n",
            "800/800 [==============================] - 2s 2ms/step - loss: 0.4043 - accuracy: 0.8364\n",
            "Epoch 18/100\n",
            "800/800 [==============================] - 1s 2ms/step - loss: 0.4035 - accuracy: 0.8364\n",
            "Epoch 19/100\n",
            "800/800 [==============================] - 1s 2ms/step - loss: 0.4032 - accuracy: 0.8363\n",
            "Epoch 20/100\n",
            "800/800 [==============================] - 1s 2ms/step - loss: 0.4028 - accuracy: 0.8370\n",
            "Epoch 21/100\n",
            "800/800 [==============================] - 1s 2ms/step - loss: 0.4027 - accuracy: 0.8363\n",
            "Epoch 22/100\n",
            "800/800 [==============================] - 1s 2ms/step - loss: 0.4021 - accuracy: 0.8376\n",
            "Epoch 23/100\n",
            "800/800 [==============================] - 1s 2ms/step - loss: 0.4018 - accuracy: 0.8357\n",
            "Epoch 24/100\n",
            "800/800 [==============================] - 1s 2ms/step - loss: 0.4015 - accuracy: 0.8378\n",
            "Epoch 25/100\n",
            "800/800 [==============================] - 1s 2ms/step - loss: 0.4014 - accuracy: 0.8367\n",
            "Epoch 26/100\n",
            "800/800 [==============================] - 2s 2ms/step - loss: 0.4011 - accuracy: 0.8391\n",
            "Epoch 27/100\n",
            "800/800 [==============================] - 1s 2ms/step - loss: 0.4011 - accuracy: 0.8375\n",
            "Epoch 28/100\n",
            "800/800 [==============================] - 1s 2ms/step - loss: 0.4004 - accuracy: 0.8380\n",
            "Epoch 29/100\n",
            "800/800 [==============================] - 1s 2ms/step - loss: 0.4009 - accuracy: 0.8375\n",
            "Epoch 30/100\n",
            "800/800 [==============================] - 1s 2ms/step - loss: 0.4005 - accuracy: 0.8369\n",
            "Epoch 31/100\n",
            "800/800 [==============================] - 1s 2ms/step - loss: 0.4003 - accuracy: 0.8385\n",
            "Epoch 32/100\n",
            "800/800 [==============================] - 1s 2ms/step - loss: 0.4006 - accuracy: 0.8370\n",
            "Epoch 33/100\n",
            "800/800 [==============================] - 1s 2ms/step - loss: 0.4001 - accuracy: 0.8384\n",
            "Epoch 34/100\n",
            "800/800 [==============================] - 1s 2ms/step - loss: 0.4002 - accuracy: 0.8371\n",
            "Epoch 35/100\n",
            "800/800 [==============================] - 2s 2ms/step - loss: 0.3999 - accuracy: 0.8378\n",
            "Epoch 36/100\n",
            "800/800 [==============================] - 2s 2ms/step - loss: 0.3994 - accuracy: 0.8384\n",
            "Epoch 37/100\n",
            "800/800 [==============================] - 1s 2ms/step - loss: 0.3997 - accuracy: 0.8386\n",
            "Epoch 38/100\n",
            "800/800 [==============================] - 1s 2ms/step - loss: 0.3995 - accuracy: 0.8378\n",
            "Epoch 39/100\n",
            "800/800 [==============================] - 1s 2ms/step - loss: 0.3993 - accuracy: 0.8376\n",
            "Epoch 40/100\n",
            "800/800 [==============================] - 1s 2ms/step - loss: 0.3998 - accuracy: 0.8389\n",
            "Epoch 41/100\n",
            "800/800 [==============================] - 1s 2ms/step - loss: 0.3990 - accuracy: 0.8374\n",
            "Epoch 42/100\n",
            "800/800 [==============================] - 1s 2ms/step - loss: 0.3994 - accuracy: 0.8388\n",
            "Epoch 43/100\n",
            "800/800 [==============================] - 1s 2ms/step - loss: 0.3991 - accuracy: 0.8385\n",
            "Epoch 44/100\n",
            "800/800 [==============================] - 1s 2ms/step - loss: 0.3993 - accuracy: 0.8382\n",
            "Epoch 45/100\n",
            "800/800 [==============================] - 2s 2ms/step - loss: 0.3990 - accuracy: 0.8384\n",
            "Epoch 46/100\n",
            "800/800 [==============================] - 1s 2ms/step - loss: 0.3992 - accuracy: 0.8388\n",
            "Epoch 47/100\n",
            "800/800 [==============================] - 1s 2ms/step - loss: 0.3991 - accuracy: 0.8389\n",
            "Epoch 48/100\n",
            "800/800 [==============================] - 1s 2ms/step - loss: 0.3987 - accuracy: 0.8394\n",
            "Epoch 49/100\n",
            "800/800 [==============================] - 1s 2ms/step - loss: 0.3985 - accuracy: 0.8381\n",
            "Epoch 50/100\n",
            "800/800 [==============================] - 1s 2ms/step - loss: 0.3988 - accuracy: 0.8389\n",
            "Epoch 51/100\n",
            "800/800 [==============================] - 1s 2ms/step - loss: 0.3985 - accuracy: 0.8403\n",
            "Epoch 52/100\n",
            "800/800 [==============================] - 1s 2ms/step - loss: 0.3989 - accuracy: 0.8384\n",
            "Epoch 53/100\n",
            "800/800 [==============================] - 1s 2ms/step - loss: 0.3987 - accuracy: 0.8391\n",
            "Epoch 54/100\n",
            "800/800 [==============================] - 2s 2ms/step - loss: 0.3985 - accuracy: 0.8381\n",
            "Epoch 55/100\n",
            "800/800 [==============================] - 2s 2ms/step - loss: 0.3984 - accuracy: 0.8381\n",
            "Epoch 56/100\n",
            "800/800 [==============================] - 1s 2ms/step - loss: 0.3986 - accuracy: 0.8389\n",
            "Epoch 57/100\n",
            "800/800 [==============================] - 1s 2ms/step - loss: 0.3984 - accuracy: 0.8379\n",
            "Epoch 58/100\n",
            "800/800 [==============================] - 1s 2ms/step - loss: 0.3985 - accuracy: 0.8390\n",
            "Epoch 59/100\n",
            "800/800 [==============================] - 1s 2ms/step - loss: 0.3983 - accuracy: 0.8384\n",
            "Epoch 60/100\n",
            "800/800 [==============================] - 1s 2ms/step - loss: 0.3986 - accuracy: 0.8391\n",
            "Epoch 61/100\n",
            "800/800 [==============================] - 1s 2ms/step - loss: 0.3981 - accuracy: 0.8403\n",
            "Epoch 62/100\n",
            "800/800 [==============================] - 1s 2ms/step - loss: 0.3983 - accuracy: 0.8384\n",
            "Epoch 63/100\n",
            "800/800 [==============================] - 1s 2ms/step - loss: 0.3981 - accuracy: 0.8391\n",
            "Epoch 64/100\n",
            "800/800 [==============================] - 2s 2ms/step - loss: 0.3987 - accuracy: 0.8393\n",
            "Epoch 65/100\n",
            "800/800 [==============================] - 1s 2ms/step - loss: 0.3985 - accuracy: 0.8390\n",
            "Epoch 66/100\n",
            "800/800 [==============================] - 1s 2ms/step - loss: 0.3985 - accuracy: 0.8381\n",
            "Epoch 67/100\n",
            "800/800 [==============================] - 2s 2ms/step - loss: 0.3983 - accuracy: 0.8403\n",
            "Epoch 68/100\n",
            "800/800 [==============================] - 2s 2ms/step - loss: 0.3984 - accuracy: 0.8375\n",
            "Epoch 69/100\n",
            "800/800 [==============================] - 1s 2ms/step - loss: 0.3983 - accuracy: 0.8388\n",
            "Epoch 70/100\n",
            "800/800 [==============================] - 1s 2ms/step - loss: 0.3983 - accuracy: 0.8397\n",
            "Epoch 71/100\n",
            "800/800 [==============================] - 1s 2ms/step - loss: 0.3981 - accuracy: 0.8399\n",
            "Epoch 72/100\n",
            "800/800 [==============================] - 2s 2ms/step - loss: 0.3986 - accuracy: 0.8395\n",
            "Epoch 73/100\n",
            "800/800 [==============================] - 2s 2ms/step - loss: 0.3984 - accuracy: 0.8380\n",
            "Epoch 74/100\n",
            "800/800 [==============================] - 1s 2ms/step - loss: 0.3980 - accuracy: 0.8386\n",
            "Epoch 75/100\n",
            "800/800 [==============================] - 1s 2ms/step - loss: 0.3982 - accuracy: 0.8410\n",
            "Epoch 76/100\n",
            "800/800 [==============================] - 1s 2ms/step - loss: 0.3986 - accuracy: 0.8388\n",
            "Epoch 77/100\n",
            "800/800 [==============================] - 1s 2ms/step - loss: 0.3983 - accuracy: 0.8389\n",
            "Epoch 78/100\n",
            "800/800 [==============================] - 1s 2ms/step - loss: 0.3984 - accuracy: 0.8397\n",
            "Epoch 79/100\n",
            "800/800 [==============================] - 1s 2ms/step - loss: 0.3981 - accuracy: 0.8386\n",
            "Epoch 80/100\n",
            "800/800 [==============================] - 1s 2ms/step - loss: 0.3981 - accuracy: 0.8394\n",
            "Epoch 81/100\n",
            "800/800 [==============================] - 1s 2ms/step - loss: 0.3983 - accuracy: 0.8401\n",
            "Epoch 82/100\n",
            "800/800 [==============================] - 2s 2ms/step - loss: 0.3982 - accuracy: 0.8399\n",
            "Epoch 83/100\n",
            "800/800 [==============================] - 2s 2ms/step - loss: 0.3980 - accuracy: 0.8384\n",
            "Epoch 84/100\n",
            "800/800 [==============================] - 2s 2ms/step - loss: 0.3981 - accuracy: 0.8391\n",
            "Epoch 85/100\n",
            "800/800 [==============================] - 3s 4ms/step - loss: 0.3981 - accuracy: 0.8393\n",
            "Epoch 86/100\n",
            "800/800 [==============================] - 2s 3ms/step - loss: 0.3981 - accuracy: 0.8397\n",
            "Epoch 87/100\n",
            "800/800 [==============================] - 1s 2ms/step - loss: 0.3985 - accuracy: 0.8389\n",
            "Epoch 88/100\n",
            "800/800 [==============================] - 1s 2ms/step - loss: 0.3977 - accuracy: 0.8376\n",
            "Epoch 89/100\n",
            "800/800 [==============================] - 2s 2ms/step - loss: 0.3983 - accuracy: 0.8390\n",
            "Epoch 90/100\n",
            "800/800 [==============================] - 2s 2ms/step - loss: 0.3980 - accuracy: 0.8401\n",
            "Epoch 91/100\n",
            "800/800 [==============================] - 1s 2ms/step - loss: 0.3981 - accuracy: 0.8399\n",
            "Epoch 92/100\n",
            "800/800 [==============================] - 1s 2ms/step - loss: 0.3978 - accuracy: 0.8378\n",
            "Epoch 93/100\n",
            "800/800 [==============================] - 1s 2ms/step - loss: 0.3979 - accuracy: 0.8385\n",
            "Epoch 94/100\n",
            "800/800 [==============================] - 1s 2ms/step - loss: 0.3982 - accuracy: 0.8394\n",
            "Epoch 95/100\n",
            "800/800 [==============================] - 1s 2ms/step - loss: 0.3980 - accuracy: 0.8386\n",
            "Epoch 96/100\n",
            "800/800 [==============================] - 1s 2ms/step - loss: 0.3986 - accuracy: 0.8397\n",
            "Epoch 97/100\n",
            "800/800 [==============================] - 1s 2ms/step - loss: 0.3982 - accuracy: 0.8406\n",
            "Epoch 98/100\n",
            "800/800 [==============================] - 1s 2ms/step - loss: 0.3980 - accuracy: 0.8388\n",
            "Epoch 99/100\n",
            "800/800 [==============================] - 2s 2ms/step - loss: 0.3985 - accuracy: 0.8399\n",
            "Epoch 100/100\n",
            "800/800 [==============================] - 1s 2ms/step - loss: 0.3981 - accuracy: 0.8389\n"
          ]
        },
        {
          "data": {
            "text/plain": [
              "<keras.callbacks.History at 0x7f4aa80a32b0>"
            ]
          },
          "execution_count": 9,
          "metadata": {},
          "output_type": "execute_result"
        }
      ],
      "source": [
        "# Fit the ANN to the data\n",
        "classifier.fit(X_train, y_train, batch_size=10, epochs=100)"
      ]
    },
    {
      "cell_type": "code",
      "execution_count": null,
      "metadata": {
        "colab": {
          "base_uri": "https://localhost:8080/"
        },
        "id": "0hHj7Yjwn58b",
        "outputId": "f61ad153-37ec-481b-83b3-6090de3ac867"
      },
      "outputs": [
        {
          "name": "stdout",
          "output_type": "stream",
          "text": [
            "63/63 [==============================] - 0s 1ms/step\n",
            "Accuracy on test set :  0.8265\n",
            "\n",
            "Confusion Matrix : \n",
            " [[1520   66]\n",
            " [ 281  133]]\n"
          ]
        }
      ],
      "source": [
        "from sklearn.metrics import confusion_matrix, accuracy_score\n",
        "\n",
        "y_pred = classifier.predict(X_test)\n",
        "y_pred = y_pred > 0.5\n",
        "\n",
        "print (\"Accuracy on test set : \", accuracy_score(y_test, y_pred))\n",
        "\n",
        "print (\"\\nConfusion Matrix : \\n\", confusion_matrix(y_test, y_pred))"
      ]
    },
    {
      "cell_type": "code",
      "execution_count": null,
      "metadata": {
        "colab": {
          "base_uri": "https://localhost:8080/",
          "height": 466
        },
        "id": "du_ZNsRJogjm",
        "outputId": "7572bd84-0595-4608-cda5-ee77ff8f9bb1"
      },
      "outputs": [
        {
          "data": {
            "text/plain": [
              "Text(50.722222222222214, 0.5, 'Truth')"
            ]
          },
          "execution_count": 30,
          "metadata": {},
          "output_type": "execute_result"
        },
        {
          "data": {
            "image/png": "[encoded data removed]",
            "text/plain": [
              "<Figure size 640x480 with 2 Axes>"
            ]
          },
          "metadata": {},
          "output_type": "display_data"
        }
      ],
      "source": [
        "import seaborn as sn\n",
        "\n",
        "cm = confusion_matrix(y_test, y_pred)\n",
        "sn.heatmap(cm, annot=True, fmt='d')\n",
        "\n",
        "plt.xlabel('Predicted')\n",
        "plt.ylabel('Truth')"
      ]
    },
    {
      "cell_type": "code",
      "execution_count": null,
      "metadata": {
        "id": "c4eX4QHwoid5"
      },
      "outputs": [],
      "source": []
    }
  ],
  "metadata": {
    "colab": {
      "provenance": []
    },
    "kernelspec": {
      "display_name": "Python 3",
      "name": "python3"
    },
    "language_info": {
      "codemirror_mode": {
        "name": "ipython",
        "version": 3
      },
      "file_extension": ".py",
      "mimetype": "text/x-python",
      "name": "python",
      "nbconvert_exporter": "python",
      "pygments_lexer": "ipython3",
      "version": "3.9.13"
    }
  },
  "nbformat": 4,
  "nbformat_minor": 0
}
